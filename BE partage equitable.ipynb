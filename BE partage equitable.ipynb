{
 "cells": [
  {
   "cell_type": "markdown",
   "metadata": {},
   "source": [
    "<center>BE - Théorie de la décision - Partages et allocations équitables</center>\n",
    "<center>Thème: partage et charges indivisibles</center>\n",
    "\n",
    "<center>Shuang Hou & Ziqing Wu</center>\n",
    "    \n",
    "# 1. Adaptation du modèle\n",
    "Comme annoncé dans le sujet, on cherche à adopter un modèle simplifié présenté dans le cours avec la modification suivante: les utilités deviennent des désutilités, qui peuvent être interprétées comme des pénalités, du temps de travail, des coûts, etc. On conserve l'additivité des désutilités, hypothèse qui revient à considérer les charges comme compensatoires. On suppose que tout agent peut accomplir n'importe quelle charge. Toutes les charges doivent être allouées, chacune à un agent et un seul.\n",
    "\n",
    "On suppose les désutilités strictement positives (si une charge a une désutilité nulle pour un agent, on peut l'attribuer à cet agent sans dommages pour lui, et donc cette charge peut être ignorée)."
   ]
  },
  {
   "cell_type": "markdown",
   "metadata": {},
   "source": [
    "## 1.1 Approche par les tests\n",
    "\n",
    "**Question 1** Reprendre l'approche par les tests et adapter les définitions au cas des désutilités: Pareto-optimalite, proportionnalité, absence d'envie, le test maxmin et le test CEEI. L'approche par les tests nécessite-t-elle de normaliser les utilités? Expliquer."
   ]
  },
  {
   "cell_type": "markdown",
   "metadata": {},
   "source": [
    "<div class=\"alert alert-block alert-success\">\n",
    "<b>Answer:</b> \n",
    "    \n",
    "    \n",
    "</div>"
   ]
  }
 ],
 "metadata": {
  "kernelspec": {
   "display_name": "Python 3",
   "language": "python",
   "name": "python3"
  },
  "language_info": {
   "codemirror_mode": {
    "name": "ipython",
    "version": 3
   },
   "file_extension": ".py",
   "mimetype": "text/x-python",
   "name": "python",
   "nbconvert_exporter": "python",
   "pygments_lexer": "ipython3",
   "version": "3.8.5"
  }
 },
 "nbformat": 4,
 "nbformat_minor": 4
}
