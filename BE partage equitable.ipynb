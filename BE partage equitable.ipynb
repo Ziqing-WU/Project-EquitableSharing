{
 "cells": [
  {
   "cell_type": "markdown",
   "metadata": {},
   "source": [
    "<center>BE - Théorie de la décision - Partages et allocations équitables</center>\n",
    "<center>Thème: partage et charges indivisibles</center>\n",
    "\n",
    "<center>Shuang Hou & Ziqing Wu</center>\n",
    "    \n",
    "# 1. Adaptation du modèle\n",
    "Comme annoncé dans le sujet, on cherche à adopter un modèle simplifié présenté dans le cours avec la modification suivante: les utilités deviennent des désutilités, qui peuvent être interprétées comme des pénalités, du temps de travail, des coûts, etc. On conserve l'additivité des désutilités, hypothèse qui revient à considérer les charges comme compensatoires. On suppose que tout agent peut accomplir n'importe quelle charge. Toutes les charges doivent être allouées, chacune à un agent et un seul.\n",
    "\n",
    "On suppose les désutilités strictement positives (si une charge a une désutilité nulle pour un agent, on peut l'attribuer à cet agent sans dommages pour lui, et donc cette charge peut être ignorée)."
   ]
  },
  {
   "cell_type": "markdown",
   "metadata": {},
   "source": [
    "<div class=\"alert alert-block alert-warning\">\n",
    "<b>Notation:</b> Pour la cohérence, toutes les notations utilisées dans ce notebook sont identiques aux celles utilisées dans le polycopié de ce cours. Comme on s'intéresse qu'aux desutilités dans ce projet. On introduit des nouvelles notations comme $d$ pour désigner les désutilités, $dc$ pour désigner les désutilités collective.\n",
    "</div>\n"
   ]
  },
  {
   "cell_type": "markdown",
   "metadata": {},
   "source": [
    "## 1.1 Approche par les tests\n",
    "\n",
    "**Question 1.** Reprendre l'approche par les tests et adapter les définitions au cas des désutilités: Pareto-optimalite, proportionnalité, absence d'envie, le test maxmin et le test CEEI. L'approche par les tests nécessite-t-elle de normaliser les utilités? Expliquer."
   ]
  },
  {
   "cell_type": "markdown",
   "metadata": {},
   "source": [
    "<div class=\"alert alert-block alert-success\">\n",
    "<b>Answer:</b><br>\n",
    "   \n",
    "<b>1) Pareto-optimalité (efficacité):</b> Une allocation Pareto-optimale est une allocation qui ne gaspille pas la ressource. On dit que l'allocation $x$ domine au sens de Pareto (ou Pareto-domine) l'allocation $x'$ si et seulement si $u_i(x_i)\\geq u_i(x'_i)$ pour tout agent i, avec au moins une inégalité stricte. Une allocation Pareto-optimale est une allocation qui n'est dominée par aucune autre.\n",
    "\n",
    "Dans le cas des désutilités, on dit que l'allocation $x$ domine au sens de Pareto l'allocation $x'$ si et seulement si $d_i(x_i)\\leq d_i(x'_i)$ pour tout agent i, avec au moins une inégalité stricte. Comme dans ce BE, on interprète les désutilités comme des pénibilités, l'agent qui a moins de désutilité est considéré comme l'agent qui a plus d'intérêts. C'est donc logique de remplacer le signe supérieur ou égal par le signe inférieur ou égal dans le cas des désutilités.\n",
    "\n",
    "<br>\n",
    "<b>2) Proportionnalité:</b> Dans le cas des utilités, l'allocation $x$ est proportionnelle lorsque \n",
    "$$u_i(x_i)\\geq\\frac{1}{n}u_i(M) = \\frac{1}{n}\\sum_{j\\in M}W(i,j)$$ pour tout $i\\in N$. $\\frac{1}{n}\\sum_{j\\in M}W(i,j)$ est la juste part proportionnelle de l'agent i. La proportionnalité peut être interprétée comme suit: chacun doit avoir au moins $\\frac{1}{n}$ de l'utilité qu'il aurait si tous les objets lui étaient alloués.\n",
    "    \n",
    "Dans le cas des désutilités, on dit que chacun doit avoir au plus $\\frac{1}{n}$ de la désutilité qu'il aurait si toutes les tâches lui étaient alloués. Donc $$d_i(x_i)\\leq\\frac{1}{n}d_i(M)=\\frac{1}{n}\\sum_{j\\in M}W(i,j)$$\n",
    "    \n",
    "<br>\n",
    "<b>3) Absence d'envie:</b> Une allocation $x$ est sans envie lorsque $$u_i(x_i)\\geq u_i(x'_i)$$ pour tout $i,i'\\in N$, qui peut être interprété comme personne ne préfère strictement la part d'un autre. Il s'agit d'un concept de stabilité. \n",
    "    \n",
    "Dans le cas des désutilités, on dit qu'une allocation $x$ est sans envie lorsque $$d_i(x_i)\\leq d_i(x'_i)$$ qui peut être interprété comme personne ne se plaint de faire plus de choses qu'un autre.\n",
    "    \n",
    "<br> \n",
    "<b>4) Test maxmin:</b> Une allocation $x$ vérifie le test maxmin lorsque $$u_i(x_i)\\geq \\max_{y\\in \\mathcal{A}}\\min_{i'\\in N}u_i(y_i')$$ pour tout $i\\in N$ où $\\mathcal{A}$ est l'ensemble de toutes les allocations possibles. Ce test généralise l'idée du jeu cut-and-choose. La juste part maxmin de l'argent i $\\max_{y\\in \\mathcal{A}}\\min_{i'\\in N}u_i(y_i')$, est l'utilité qu'il peut se garantir dans le jeu \"je partage et je choisis en dernier\". \n",
    "    \n",
    "Dans le cas des désutilités, on part du principe similaire \"je fais le plus de tâches le possible et je choisis en dernier\", donc la juste part maxmin de l'argent i est $\\min_{y\\in \\mathcal{A}}\\max_{i'\\in N}d_i(y'_i)$. Une allocation $x$ vérifie le test maxmin lorsque $$d_i(x_i)\\leq \\min_{y\\in\\mathcal{A}}\\max_{i'\\in N}d_i(y_i')$$\n",
    "    \n",
    "<br>\n",
    "<b>5) Test CEEI:</b> Soit $x$ une allocation, et $p\\in[0,1]^m$ un prix pour chaque objet. On dit que le couple $(x,p)$ forme un équilibre compétitif à revenus égaux lorsque $$x_i\\in \\arg\\min_{P\\subseteq M}\\{u_i(P)|\\sum_{j\\in P}p_j\\leq1\\}$$ pour tout $i\\in N$.\n",
    "    \n",
    "Dans le cas des désutilités, on peut aussi imposer une valeur qui évalue la pénibilité pour chaque tâche, ici on note cette valeur $p\\in [0,1]^m$, on dit que l'allocation $x$ vérifie le test CEEI lorsque $$x_i\\in \\arg\\min\\{d_i(P)|\\sum_{j\\in P}p_j\\geq 1\\}$$ pour tout $i\\in N$. Ici le prix $p$ peut être considéré comme une obligation. Un seuil doit être atteint pour chacun, donc on met le signe supérieur et égal dans ce cas.\n",
    "    \n",
    "<br><br>\n",
    "    \n",
    "La normalisation n'est pas nécessaire dans ces tests, car on ne compare jamais les désutilités individuelles d'agents différents. Chacun peut utiliser sa propre échelle.\n",
    "\n",
    "</div>"
   ]
  },
  {
   "cell_type": "markdown",
   "metadata": {},
   "source": [
    "## 1.2 Approche par les ordres de Bien-Être Social (OBES) et les Fonction d'Utilité Collective (FUC)\n",
    "\n",
    "**Question 2.** Reprendre l'approche par les OBES et les FUC et de même adapter les définition ainsi que les sens d'optimisation au cas des désutilité :\n",
    "\n",
    "- l'utilitarisme classique\n",
    "- l'égalitarisme\n",
    "- Nash\n",
    "- la réduction des inégalités\n",
    "- la famille des *Ordered Weighted Averaging Operators* (OWA). Quelles conditions sur les poids d'un OWA assurent la propriété de réduction des inégalités?\n",
    "\n",
    "L'approche par les OBES/FUC nécessite-t-elle de normaliser les utilités? Expliquer."
   ]
  },
  {
   "cell_type": "markdown",
   "metadata": {},
   "source": [
    "<div class=\"alert alert-block alert-success\">\n",
    "<b>Answer:</b><br> \n",
    "    \n",
    "<b>1)</b> La fonction d'utilité collective de l'utilitarisme classique au cas des utilités est définie comme suivante avec le sens d'optimisation est de le maximiser.\n",
    "    \n",
    "$$ uc(u) = \\sum_{i\\in N} u_i$$\n",
    "    \n",
    "Dans le cas des désutilités, la sommation dans la définition ne change pas et le sens d'optimisation doit être changée de maximisation à minimisation, car pour la pénalité, moins vous en avez, mieux c'est. Donc,\n",
    "$$ dc(u) = \\sum_{i\\in N} d_i$$\n",
    "\n",
    "<br>\n",
    "    \n",
    "<b>2)</b> La fonction d'utilité collective de l'égalitarisme pur et dur au cas des utilités est définie comme suivante avec le sens d'optimisation est de le maximiser. Il traduit l'équité pour qui une distribution des richesses est équitable lorsque le plus pauvre des agents est le plus riche possible.\n",
    "    \n",
    "$$ uc(u) = \\min_{i\\in N} u_i$$    \n",
    "  \n",
    "Dans le cas des déutilités, le min dans la définition doit devenir max, et le sens d'optimisation doit être changée de maximisation à minimisation. Parce que pour les pénalités, l'objectif d'optimisation est de faire en sorte que la personne qui reçoit le plus de punition reçoive le moins de punition possible. Cela donne la définition au cas des déutilités:\n",
    "    \n",
    "$$ dc(u) = \\max_{i\\in N} d_i$$   \n",
    " \n",
    "<br>    \n",
    "    \n",
    "<b>3)</b> La fonction d'utilité collective produit de Nash au cas des utilités est définie comme suivante avec le sens d'optimisation est de le maximiser. Il est restreint aux utilités individuelles strictement positives.\n",
    "    \n",
    "$$ uc(u) = \\prod_{i\\in N} u_i$$   \n",
    "    \n",
    "Dans le cas des déutilités, le produit dans la définition ne change pas, et le sens d'optimisation ne change pas non plus, il s'agit toujours de maximiser la fonction d'utilité collective. Car que ce soit pour l'utilité ou la désutilité, l'objectif d'optimisation est de rechercher l'équité, c'est en maximisant un produit que l'on équilibre ses arguments.\n",
    "$$ dc(u) = \\prod_{i\\in N} d_i$$  \n",
    "\n",
    "<br>    \n",
    "    \n",
    "<b>4)</b> La définition de la réduction des inéqalités est décrit comme : Soient deux profils u et v ne différant que pour deux agents i et j distincts ($u_k = v_k$ pour tout k différent de i et j) et tels que $u_i + u_j = v_i + v_j$. On dit que v est obtenu à partir de u par un transfert réduisant les inégalités (ou transfert de Pigou-Dalton) lorsque $|v_i − v_j| < |u_i − u_j|$.     \n",
    "\n",
    "Autrement dit, la somme des utilités est conservée mais les inégalités sont réduites par le transfert : il y a eu un transfert d'utilité d'un agent \"riche\" vers un agent \"pauvre\".    \n",
    "    \n",
    "La même idée s'applique dans le cas des déutilités: la somme des désutilités est conservée, mais on espère que les inégalités seront réduites par le transfert, et la déutilité sera transférée de plus cher à bon marché. C'est-à-dire que le but de l'optimisation est de rechercher le plus égal possible entre tous les agents. Donc, dans ce cas des déutilités, la définition et le sens d'optimisation restent inchangés.    \n",
    "\n",
    "<br>    \n",
    "    \n",
    "<b>5)</b> La moyenne pondérée ordonnée *Ordered Weighted Averaging Operators* (OWA) est une déformation de la moyenne pondérée, dans laquelle les poids portent sur les rangs plutôt que sur les composantes elles-mêmes.\n",
    "    \n",
    "Un n-OWA est une famille de fonctions de $R^n$ dans $R$, paramétrée par un vecteur $w = <w_1, . . . , w_n> \\in[0, 1]^n$, avec $\\sum_i w_i = 1$. Une fois $w$ fixé, l'OWA est défini par:\n",
    "    \n",
    "    \n",
    "$$ O_w(u) = \\sum_{i=1}^n w_i u_i^*$$\n",
    "    \n",
    "où $<u_1^*, u_2^*, ..., u_n^*>$ dénote le vecteur u une fois ses composantes ordonnées de façon non décroissante.\n",
    "    \n",
    "Dans le cas des désutilités, la définition est toujours la même que ci-dessus. Mais pour assurer la propriété de réduction des inégalités, les poids d'un OWA doivent avoir une condition: le vecteur du poids $w = <w_1, w_2, ..., w_n>$ est une séquence ordonnée de façon non décroissante. Parce que le vecteur $d = <d_1^*, d_2^*, ..., d_n^*>$ est une séquence ordonnées de façon non croissante, afin de réduire les inégalités, leurs séquences de poids correspondantes doivent être non croissantes afin de garantir que l'on puisse maximiser la réduction des inégalités entre chaque terme après multiplication.\n",
    "    \n",
    "<br><br>\n",
    "    \n",
    "Il est nécessaire de normaliser les utilités/désutilités pour l'approche par les OBES/FUC. Parce qu'ici il est différent de l'approche par les tests précédentes, ici l'approche par les OBES/FUC fait une comparaison entre chaque agent, donc leur utilités/désutilités doit être normalisées pour s'assurer qu'elles sont sur la même échelle, de sorte que cela fait du sens pour la comparaison.\n",
    "\n",
    "Mais il y a un cas particulier: la fonction de Nash ne dépend pas des échelles d'utilités individuelles, alors que pour la somme et le leximin, il est souvent nécessaire de \"normaliser\" les utilités individuelles.  \n",
    "    \n",
    "</div>"
   ]
  },
  {
   "cell_type": "markdown",
   "metadata": {},
   "source": [
    "## 1.3 Un exemple\n",
    "\n",
    "Soit l'instance suivante (3 charges a, b, c, à partager entre 2 agents) :\n",
    "\n",
    "\\begin{matrix}  & a & b & c \\\\ u_1() & 6 & 3 & 1 \\\\ u_2() & 1 & 2 & 1 \\end{matrix}\n",
    "\n",
    "**Question 3.** Enumérer toutes les allocations possibles, les placer graphiquement dans l'espace des désutilités. Tracer quelques courbes d'iso-somme, iso-égalitarisme, iso-Nash et iso-OWA (avec un vecteur de poids bien choisi). Pour chaque allocation, la caractériser par les 5 tests cités plus haut (pour CEEI, préciser les prix). Lesquelles optimisent les 3 OBES utilitarisme classique, l'égalitarisme et Nash ?"
   ]
  },
  {
   "cell_type": "markdown",
   "metadata": {},
   "source": [
    "<div class=\"alert alert-block alert-warning\">\n",
    "<b>Notation:</b> Dans cette partie, on a choisi de garder la cohérence avec l'énoncé, en prenant $u$ comme la notation des désutilités au lieu de $d$.\n",
    "</div>\n"
   ]
  },
  {
   "cell_type": "markdown",
   "metadata": {},
   "source": [
    "<div class=\"alert alert-block alert-success\">\n",
    "<b>Answer:</b><br>\n",
    "    \n",
    "Toutes les allocations possibles sont énumérées comme suite. Pour la clarté et la simplicité, on désigne chaque allocation par $x_i$, et elles sont présentées sous forme de matrice.\n",
    "    \n",
    "\\begin{array}{c|ccc}  & a & b & c \\\\ \\hline x_1 & u_1 & u_2 & u_2 \\\\ x_2 & u_2 & u_1 & u_2 \\\\\n",
    "                x_3 & u_2 & u_2 & u_1 \\\\ x_4 & u_1 & u_1 & u_2 \\\\ x_5 & u_1 & u_2 & u_1 \\\\ \n",
    "                x_6 & u_2 & u_1 & u_1 \\\\ x_7 & u_1 & u_1 & u_1 \\\\ x_8 & u_2 & u_2 & u_2 \\end{array}        \n",
    "\n",
    "    \n",
    "</div>"
   ]
  },
  {
   "cell_type": "markdown",
   "metadata": {},
   "source": [
    "<div class=\"alert alert-block alert-warning\">\n",
    "<b>Signe:</b> Les désutilités sont souvent représentés par les valeurs négatives qui font la différence avec les utilités. Dans ce BE, vu qu'il n'y a pas de confusion avec les utilités, on réprensente simplement les désutilités par les valeurs positives.\n",
    "</div>\n"
   ]
  },
  {
   "cell_type": "markdown",
   "metadata": {},
   "source": [
    "<div class=\"alert alert-block alert-success\">\n",
    "Pour pouvoir placer ces allocations et calculer les désutilités collectives (surtout Nash), il nous faut d'abord normaliser les désutilités. Après la normalisation, on a les instances comme suit:     \n",
    "\\begin{matrix}  & a & b & c \\\\ u_1() & 12 & 6 & 2 \\\\ u_2() & 5 & 10 & 5 \\end{matrix}\n",
    "\n",
    "Les désutilités de chaque objet, la somme, le minimum et le produit pour chaque allocation sont calculées, cf le tableau ci-dessous:\n",
    "\\begin{array}{c|ccc}  & x_1 & x_2 & x_3 & x_4 & x_5 & x_6 & x_7 & x_8 \\\\ \n",
    "                \\hline \n",
    "                u_1 & 12 & 6 & 2 & 18 & 14 & 8 & 20 & 0 \\\\ \n",
    "                u_2 & 15 & 10 & 15 & 5 & 10 & 5 & 0 & 20 \\\\\n",
    "                somme & 27 & 16 & 17 & 23 & 24 & 13 & 20 & 20 \\\\\n",
    "                max & 15 & 10 & 15 & 18 & 14 & 8 & 20 & 20&\\\\\n",
    "                produit & 180 & 60 & 30 & 90 & 140 & 40 & 0 & 0 \\end{array} \n",
    "\n",
    "</div>"
   ]
  },
  {
   "cell_type": "code",
   "execution_count": 2,
   "metadata": {},
   "outputs": [
    {
     "name": "stdout",
     "output_type": "stream",
     "text": [
      "somme: [27 16 17 23 24 13 20 20]\n",
      "max:[15, 10, 15, 18, 14, 8, 20, 20]\n",
      "produit:[180  60  30  90 140  40   0   0]\n"
     ]
    }
   ],
   "source": [
    "# Creation of solution space\n",
    "\n",
    "import matplotlib.pyplot as plt\n",
    "import numpy as np\n",
    "u1 = np.array([12, 6, 2, 18, 14, 8, 20, 0])\n",
    "u2 = np.array([15, 10, 15, 5, 10, 5, 0, 20])\n",
    "\n",
    "# Definition of functions\n",
    "\n",
    "def somme(u1,u2):\n",
    "    return u1 + u2\n",
    "\n",
    "def maxe(u1, u2):\n",
    "    return [np.max([u1[i], u2[i]]) for i in range(len(u1))]\n",
    "\n",
    "def produit(u1, u2):\n",
    "    return u1*u2\n",
    "\n",
    "print(f'somme: {somme(u1,u2)}')\n",
    "print(f'max:{maxe(u1, u2)}')\n",
    "print(f'produit:{produit(u1,u2)}')"
   ]
  },
  {
   "cell_type": "code",
   "execution_count": 5,
   "metadata": {},
   "outputs": [
    {
     "data": {
      "text/plain": [
       "Text(0, 0.5, 'u2')"
      ]
     },
     "execution_count": 5,
     "metadata": {},
     "output_type": "execute_result"
    },
    {
     "data": {
      "image/png": "[encoded data removed]",
      "text/plain": [
       "<Figure size 432x288 with 1 Axes>"
      ]
     },
     "metadata": {
      "needs_background": "light"
     },
     "output_type": "display_data"
    }
   ],
   "source": [
    "# Plot the solution space\n",
    "import matplotlib.pyplot as plt\n",
    "\n",
    "fig, ax = plt.subplots()\n",
    "ax.scatter(u1, u2)\n",
    "ax.set_xlabel('u1')\n",
    "ax.set_ylabel('u2')"
   ]
  },
  {
   "cell_type": "code",
   "execution_count": 6,
   "metadata": {},
   "outputs": [
    {
     "data": {
      "text/plain": [
       "Text(0, 0.5, 'u2')"
      ]
     },
     "execution_count": 6,
     "metadata": {},
     "output_type": "execute_result"
    },
    {
     "data": {
      "image/png": "[encoded data removed]",
      "text/plain": [
       "<Figure size 432x288 with 1 Axes>"
      ]
     },
     "metadata": {
      "needs_background": "light"
     },
     "output_type": "display_data"
    }
   ],
   "source": [
    "# Plot the iso-somme curves\n",
    "fig = plt.figure()\n",
    "ax = plt.axes()\n",
    "sommes = [5,10,15,20]\n",
    "labels = [\"iso-somme \"+str(i) for i in sommes]\n",
    "i=0\n",
    "for somme in sommes:\n",
    "    x = np.linspace(0,somme, 1000)\n",
    "    ax.plot(x, somme-x, label = labels[i])\n",
    "    i+=1\n",
    "ax.scatter(u1, u2)\n",
    "ax.legend()\n",
    "ax.set_xlabel('u1')\n",
    "ax.set_ylabel('u2')"
   ]
  },
  {
   "cell_type": "code",
   "execution_count": 7,
   "metadata": {},
   "outputs": [
    {
     "data": {
      "text/plain": [
       "Text(0, 0.5, 'u2')"
      ]
     },
     "execution_count": 7,
     "metadata": {},
     "output_type": "execute_result"
    },
    {
     "data": {
      "image/png": "[encoded data removed]",
      "text/plain": [
       "<Figure size 432x288 with 1 Axes>"
      ]
     },
     "metadata": {
      "needs_background": "light"
     },
     "output_type": "display_data"
    }
   ],
   "source": [
    "# Plot the iso-égalitarisme curves\n",
    "fig = plt.figure()\n",
    "ax = plt.axes()\n",
    "def trunk(maxe):\n",
    "    return np.linspace(0, maxe, 1000)\n",
    "    \n",
    "maxes = [5,10,15, 20]\n",
    "labels = [\"iso-max \"+str(i) for i in maxes]\n",
    "colors = ['b', 'g', 'r', 'c']\n",
    "i=0\n",
    "for maxe in maxes:\n",
    "    ax.plot(trunk(maxe), np.linspace(maxe, maxe, 1000), color = colors[i])\n",
    "    ax.plot(np.linspace(maxe, maxe, 1000), trunk(maxe), label = labels[i], color = colors[i])\n",
    "    i+=1\n",
    "ax.scatter(u1, u2)\n",
    "ax.legend()\n",
    "ax.set_xlabel('u1')\n",
    "ax.set_ylabel('u2')"
   ]
  },
  {
   "cell_type": "code",
   "execution_count": 15,
   "metadata": {},
   "outputs": [
    {
     "data": {
      "text/plain": [
       "Text(0, 0.5, 'u2')"
      ]
     },
     "execution_count": 15,
     "metadata": {},
     "output_type": "execute_result"
    },
    {
     "data": {
      "image/png": "[encoded data removed]",
      "text/plain": [
       "<Figure size 432x288 with 1 Axes>"
      ]
     },
     "metadata": {
      "needs_background": "light"
     },
     "output_type": "display_data"
    }
   ],
   "source": [
    "# Plot the iso-Nash curves\n",
    "fig = plt.figure()\n",
    "ax = plt.axes()\n",
    "produits = [50,100,150,200]\n",
    "labels = [\"iso-Nash \"+str(i) for i in produits]\n",
    "\n",
    "for i in range(len(produits)):\n",
    "    x = np.linspace(2.5*(i+1), 20, 1000)\n",
    "    ax.plot(x, produits[i]/x, label = labels[i])\n",
    "\n",
    "ax.scatter(u1, u2)\n",
    "ax.legend()\n",
    "ax.set_xlabel('u1')\n",
    "ax.set_ylabel('u2')"
   ]
  },
  {
   "cell_type": "markdown",
   "metadata": {},
   "source": [
    "<div class=\"alert alert-block alert-success\">\n",
    "Pour l'analyse OWA, il faut bien choisir un vecteur de poids. On propose de choisir des compromis paramétrables entre le min et la moyenne, comme $w_i=\\alpha^{i-1}$ avec $\\alpha\\in(0,1)$. Par exemple, on prend $\\alpha=0.8$, puis le vecteur w non-normalisé sera $[0.8, 0.64]$. Puis on le normalise pour que la somme de vecteur est égal à 1. Le vecteur normalisé de $w$ est $[0.56, 0.44]$. Comme le vecteur $w$ doit être non-décroissant, ce dernier est écrit comme $$w=[0.44,0.56]$$\n",
    "</div>"
   ]
  },
  {
   "cell_type": "code",
   "execution_count": 12,
   "metadata": {},
   "outputs": [
    {
     "data": {
      "text/plain": [
       "array([13.32,  7.76,  7.72, 10.72, 11.76,  6.32,  8.8 ,  8.8 ])"
      ]
     },
     "execution_count": 12,
     "metadata": {},
     "output_type": "execute_result"
    }
   ],
   "source": [
    "# Calculation of OWA\n",
    "w = np.array([0.44, 0.56])\n",
    "OWA=np.zeros(len(u1))\n",
    "for i in range(len(u1)):\n",
    "    if u1[i]>=u2[i]:\n",
    "        OWA[i] = u1[i]*w[0]+u2[i]*w[1]\n",
    "    else:\n",
    "        OWA[i] = u2[i]*w[0]+u1[i]*w[1]    \n",
    "OWA"
   ]
  },
  {
   "cell_type": "code",
   "execution_count": 17,
   "metadata": {},
   "outputs": [
    {
     "data": {
      "text/plain": [
       "Text(0, 0.5, 'u2')"
      ]
     },
     "execution_count": 17,
     "metadata": {},
     "output_type": "execute_result"
    },
    {
     "data": {
      "image/png": "[encoded data removed]",
      "text/plain": [
       "<Figure size 432x288 with 1 Axes>"
      ]
     },
     "metadata": {
      "needs_background": "light"
     },
     "output_type": "display_data"
    }
   ],
   "source": [
    "# Plot the iso-OWA curves\n",
    "OWAs = [5, 10, 15]\n",
    "fig = plt.figure()\n",
    "ax = plt.axes()\n",
    "\n",
    "labels = [\"iso-OWA \"+str(i) for i in OWAs]\n",
    "colors = ['b', 'g', 'r', 'c']\n",
    "\n",
    "for i in range(len(OWAs)):\n",
    "    x1 = np.linspace(OWAs[i],8+10*i,1000)\n",
    "    x2 = np.linspace(0, OWAs[i], 1000)\n",
    "    ax.plot(x1, -(w[0]/w[1])*x1+OWAs[i]/w[1], color = colors[i])\n",
    "    ax.plot(x2, -(w[1]/w[0])*x2+OWAs[i]/w[0], label = labels[i], color = colors[i])\n",
    "    \n",
    "ax.scatter(u1, u2)\n",
    "ax.legend(loc = 1)\n",
    "ax.set_xlabel('u1')\n",
    "ax.set_ylabel('u2')"
   ]
  },
  {
   "cell_type": "markdown",
   "metadata": {},
   "source": [
    "<div class=\"alert alert-block alert-success\">\n",
    "Dans cette partie, on caractérise les 5 tests cités. Comme on ne compare jamais les désutilités individuelles d'agents différents, on n'a pas besoin de normalisation. Donc on reprend les valeurs des désutilités non normalisées.\n",
    "    \n",
    "1) On caractérise les allocations par le test de Pareto-optimalité sous forme de matrice des désutilités:\n",
    "    \n",
    "\\begin{array}{c|ccc}  & x_1 & x_2 & x_3 & x_4 & x_5 & x_6 & x_7 & x_8 \\\\ \n",
    "                \\hline \n",
    "                u_1 & 6 & 3 & 1 & 9 & 7 & 4 & 10 & 0 \\\\ \n",
    "                u_2 & 3 & 2 & 3 & 1 & 2 & 1 & 0 & 4 \\end{array}     \n",
    " \n",
    "On dit qu'une allocation Pareto-optimale est une allocation qui n'est pas dominée par aucune autre. On peut identifier le front de Pareto facilement sur l'espace de solution. Les allocations dites Pareto-optimales sont $x_2$, $x_3$, $x_6$, $x_7$, $x_8$.\n",
    "\n",
    "<br>    \n",
    "    \n",
    "2) On caractérise les allocations par le test de proportionnalité. La juste part proportionnelle est $\\frac{6+3+1}{2}=5$ pour l'agent 1, et $\\frac{1+2+1}{2}=2$ pour l'agent 2. Les allocations qui satisfont ce test sont celles qui a une désutilité inférieure ou égale à 5 pour l'agent 1 et une désutilité inférieure ou égale à 2 pour l'agent 2.\n",
    "\n",
    "Donc les allocations qui satisfont le test de proportionnalité sont $x_2$, $x_6$.\n",
    "    \n",
    "<br> \n",
    "\n",
    "3) On caractérise les allocations par le test d'absence d'envie. Par exemple, pour l'allocation $x_1$, l'agent 1 envie l'agent 2 parce que l'agent 1 préfère le part de l'agent 2 avec la somme des désutilités égale à 4 au lieu de 6 allouée dans cette allocation. On fait des analyses similaires pour toutes les allocations possible. Les allocations qui satisfont le test d'absence d'envie sont donc $x_2$, $x_6$.\n",
    "    \n",
    "<br>\n",
    "\n",
    "4) On caractérise les allocations par le test maxmin. Dans le cas des désutilités, le test peut être considéré comme \"minmax\". On analyse d'abord l'agent $u_1$. La première étape consiste à trouver le pire résultat possible correspondant à $u_1$ dans chaque allocation, c'est-à-dire la plus grande désutilité. Puis, parmi ces maximums trouvés, on choisit lequel qui peut apporter le moins de désutilité, c'est-à-dire la valeur minimum. Par exemple, dans l'allocation $x_1$, $u_1(a)=6$, $u_1(b,c)=3+1=4$, la plus grande des deux est $6$. Dans l'allocation $x_2$, $u_1(b)=3$, $u_1(a,c)=6+1=7$, la plus grande des deux est $7$. En continuant comme cela, les valeurs maximales respectives correspondant aux $8$ allocations peuvent être obtenues: $[6,7,9,9,7,6,10,10]$, parmi lesquelles la valeur minimale est $6$. Par conséquent, la condition minmax qui doit être satisfaite pour $u_1$ est: $u_1(x_i) \\leq 6$.\n",
    "    \n",
    "Ensuite on analyse l'agent $u_2$. L'idée est exactement la même que l'analyse de $u_1$, on peut donc obtenir les valeurs de désutilité maximale correspondant aux $8$ allocations pour $u_2$ respectivement: [3,2,3,3,2,3,4,4], dont le plus petit est $2$. Par conséquent, la condition minmax qui doit être satisfaite pour $u_2$ est: $u_2(x_i) \\leq 2$.\n",
    "    \n",
    "Il y a que $x_2$ et $x_6$ qui satisfont à ces deux conditions de $u_1$ et $u_2$, ils sont donc les allocations qui satisfont le test maxmin.\n",
    "    \n",
    "<br>\n",
    "\n",
    "5) On caractérise les allocations par le test CEEI. Pour pouvoir effectuer ce test, on doit préciser les prix $p$, avec $p\\in [0,1]^3$ dans ce cas ici. On dira que l'allocation $x$ vérifie le test CEEI s'il existe un vecteur $p$ tel que $(x, p)$ forme un équilibre compétitif à revenus égaux. Donc on analyse pour chaque cas d'allocation respectivement pour voir si on peut trouver un tel vecteur $p$ qui satisfait les conditions.\n",
    "    \n",
    "Pour l'allocation $x_1=(6,3)$, si on veut la valeur minimale de désutilité correspondant à $u_1$ soit $6$, le prix de la charge $a$ devrait être supérieur ou égal à $1$, et la somme des prix des charges $b$ et $c$ soit inférieure à $1$. Mais un tel vecteur de prixs fera la valeur minimale de désutilité $1$ au lieu de $3$ pour $u_2$, ce qui n'est pas satisfaisant. Donc il n'existe pas de tel prix qui satisfait la condition pour allocation $x_1$.\n",
    "    \n",
    "Pour l'allocation $x_2=(3,2)$, si on veut la valeur minimale de désutilité correspondant à $u_1$ soit $3$, le prix de la charge $b$ doit être supérieur ou égal à $1$, et la somme des prix des charges $a$ et $c$ soit inférieure ou égale à $1$. Il en est de même pour $u_2$: pour que sa valeur minimale soit $2$, le prix de $b$ doit être supérieur ou égal à $1$ et la somme des prix des charges $a$ et $c$ doit être inférieure ou égale à $1$. Par analyse et calculation, on peut trouver un vecteur des prix $p = [0.5,1,0.5]$ qui satisfait les conditions de CEEI. L'allocation $x_2$ en est donc une allocation qui satisfait le test CEEI.\n",
    "    \n",
    "Même idée pour toutes les autres allocations. Enfin, on peut trouver $x_2$ et $x_6$ sont les deux allocations qui satisfont le CEEI, avec leurs prix sont respectivement : $p_2 = [0.5,1,0.5]$ et $p_6 = [1,0.6,0.4]$. Et toutes les autres allocations ne sont pas satisfasantes.   \n",
    "    \n",
    "</div>"
   ]
  },
  {
   "cell_type": "markdown",
   "metadata": {},
   "source": [
    "<div class=\"alert alert-block alert-success\">\n",
    "On cherche les allocations qui optimisent les 3 OBES utilitarisme classique, l'égalitarisme et Nash. On peut les trouver facilement à partir du tableau donné dessus. On reprend le tableau pour faciliter la lecture de ce notebook:\n",
    "    \\begin{array}{c|ccc}  & x_1 & x_2 & x_3 & x_4 & x_5 & x_6 & x_7 & x_8 \\\\ \n",
    "                \\hline \n",
    "                u_1 & 12 & 6 & 2 & 18 & 14 & 8 & 20 & 0 \\\\ \n",
    "                u_2 & 15 & 10 & 15 & 5 & 10 & 5 & 0 & 20 \\\\\n",
    "                somme & 27 & 16 & 17 & 23 & 24 & 13 & 20 & 20 \\\\\n",
    "                max & 15 & 10 & 15 & 18 & 14 & 8 & 20 & 20&\\\\\n",
    "                produit & 180 & 60 & 30 & 90 & 140 & 40 & 0 & 0 \\end{array} \n",
    "    \n",
    "+ L'allocation optimale pour l'utilitarisme classique : $x_6$ \n",
    "+ L'allocation optimale pour l'égalisme: $x_6$\n",
    "+ L'allocation optimale pour la fonction de Nash: $x_3$\n",
    "</div>"
   ]
  },
  {
   "cell_type": "markdown",
   "metadata": {},
   "source": [
    "# 2. Mise en œuvre\n",
    "\n",
    "Dans cette partie, on va construire un procédé de résolution de problème d'allocation équitable de tâches indivisibles, basé sur l'optimisation de FUC bien choisies. On exprime ces FUCs par des OWA.\n",
    "\n",
    "**Question 4.** Quels vecteurs de poids correspondent aux OBES suivants :\n",
    "+ l'ordre de l'utilitarisme classique\n",
    "+ l'ordre de l'égalitarisme\n",
    "+ l'ordre correspondant à l'OWA de Gini (notes de cours paragraphe 4.2 et note en bas de page 21). \n",
    "\n",
    "Précisez l'ordre des désutilités et des poids."
   ]
  },
  {
   "cell_type": "markdown",
   "metadata": {},
   "source": [
    "<div class=\"alert alert-block alert-success\">\n",
    "<b>Answer:</b><br>\n",
    "L'ordre des désutilités est non croissant. L'ordre des poids est non décroissant.\n",
    "    \n",
    "L'ordre de l'utilitarisme peut être considéré comme un OWA avec \n",
    "    $$w_i=\\frac{1}{n}$$ pour tout i. Parce que dans l'utilitarisme classique, les désutilités de chaque agent pour une allocation donnée sont sommées sans pondération.\n",
    "    \n",
    "<br>\n",
    "\n",
    "L'ordre de l'égalitarisme peut être considéré comme un OWA avec $$w_n = 1 $$ et $$w_i = 0$$ pour tout $i<n$. Parce que le vecteur des désutilités est de l'ordre non décroissant, pour prendre le maximum dans le cas de l'égalitarisme, on pose $w_n = 1$ et les autres poids égals 0.\n",
    "\n",
    "<br>\n",
    "    \n",
    "Pour consider l'ordre correspondant à l'OWA de Gini, on calcule le poids à partir de la expression de définition de Gini. Du fait que l'ordre des désutilités est non croissant, l'ordre des poids est non décroissant, on peut donc transférer l'expression avec les désutilités ordonnées et ensuite la simplifier. \n",
    "    \n",
    "$$ G(u) = \\frac{1}{n^2 \\bar{u}} \\sum_{1\\leq i < j\\leq n}|u_i^* - u_j^*| \\\\\n",
    "       = \\frac{1}{n^2 \\bar{u^*}} \\sum_{i=1}^n \\sum_{j=i+1}^n |u_i^* - u_j^*| \\\\\n",
    "       = \\frac{1}{n^2 \\bar{u^*}}\\left[ \\left(|u_1^* - u_2^*| + |u_1^* - u_3^*| + \\cdots + |u_1^* - u_n^*|\\right)\n",
    "       + \\left(|u_2^* - u_3^*| + \\cdots + |u_2^* - u_n^*|\\right)\n",
    "       + \\cdots\n",
    "       + \\left(|u_{n-1}^* - u_n^*|\\right) \\right] \\\\\n",
    "       = \\frac{1}{n^2 \\bar{u^*}}\\left[ \\left(u_1^* - u_2^* + u_1^* - u_3^* + \\cdots + u_1^* - u_n^*\\right)\n",
    "       + \\left(u_2^* - u_3^* + \\cdots + u_2^* - u_n^*\\right)\n",
    "       + \\cdots\n",
    "       + \\left(u_{n-1}^* - u_n^*\\right) \\right] \\\\\n",
    "       = \\frac{1}{n^2 \\bar{u^*}} \\left[(n-1)u_1^* + (n-3)u_2^* + (n-3)u_3^* + \\cdots + \\left(n-(2n-3)\\right)u_{n-1}^* - u_n^*\\right] \\\\\n",
    "       = \\frac{1}{n^2 \\bar{u^*}} \\left[ \\left(\\sum_{i=1}^{n-1}[n-(2i-1)]u_i^* \\right) - u_n^* \\right] \\\\\n",
    "       = \\frac{1}{n^2 \\bar{u^*}} \\left[ \\sum_{i=1}^{n-1}\\left([n-(2i-1)]u_i^* - \\dfrac{1}{n-1}u_n^* \\right) \\right]\n",
    "$$\n",
    "    \n",
    "En comparant avec l'expression de OWA, on peut constate que le poids du $n^{\\text{ième}}$ terme est: $$w_n = - \\dfrac{1}{n^2 \\bar{u^*}(n-1)}$$ Pour tous les autres $i\\leq n-1$, l'expression de poids pour chaque terme est: $$w_i = \\dfrac{1}{n^2 \\bar{u^*}}[n-(2i-1)]$$ avec $\\bar{u^*}$ la valeur moyenne de $u^*$.\n",
    "\n",
    "</div>"
   ]
  },
  {
   "cell_type": "markdown",
   "metadata": {},
   "source": [
    "**Question 5.** Exprimer le problème d'optimisation d'un OWA sous forme d'un programme linéaire."
   ]
  },
  {
   "cell_type": "markdown",
   "metadata": {},
   "source": [
    "<div class=\"alert alert-block alert-warning\">\n",
    "<b>Notation:</b> Dans cette partie, on a choisi de garder la cohérence avec l'énoncé, en prenant $u$ comme la notation des désutilités au lieu de $d$.\n",
    "</div>\n"
   ]
  },
  {
   "cell_type": "markdown",
   "metadata": {},
   "source": [
    "<div class=\"alert alert-block alert-success\">\n",
    "<b>Answer:</b><br>\n",
    "\n",
    "On cherche à minimiser la fonction OWA pour le cas des désutilités. OWA est la fonction d'objective. Un aspect fondamental est que les opérateurs sont les étapes de réordonnement. Particulièrement, un poid n'est pas associé avec un argument spécific, mais avec une position ordonnée de l'aggrégation. \n",
    "    \n",
    "Pour résoudre ce problème, une variable binaire est introduite pour faire la liaison entre le vecteur ordonné et le vecteur non-ordonné. Spécifiquement, la formulation du problème est proposé ci-dessous:\n",
    "\n",
    "Min: $W^Tu^*$ (I)\n",
    "    \n",
    "subject to:\n",
    "$Au\\leq B$ (II)\n",
    "    \n",
    "$Gu^*\\leq0$ (III)\n",
    "    \n",
    "$u^*_jI-u-KZ_j\\leq 0$ for $j=1,..,n$ (IV)\n",
    "    \n",
    "$I^TZ_j\\leq n-j$ for $j=1,..,n$ (V)\n",
    "\n",
    "$Z_j\\in\\{0,1\\}$ for $j=1,..,n$ (VI)\n",
    "    \n",
    "avec $Z_j$ un vecteur binaire de taille $n$, $I$ un vecteur colonne qu'avec les éléments 1, $G$ est une matrice de dimension $(n-1,n)$ avec les éléments comme suit:\n",
    "\\begin{bmatrix}\n",
    "-1 & 1 & 0 & 0 & ... & 0 & 0\\\\\n",
    "0 & -1 & 1 & 0 & ... & 0 & 0\\\\\n",
    ": & : & : & : &  & : & :\\\\\n",
    "0 & 0 & 0 & 0 & ... & -1 & 1\\\\\n",
    "\\end{bmatrix}\n",
    "\n",
    "La contrainte (III) est pour assurer que le vecteur $u^*$ suit un ordre non croissant.\n",
    "    \n",
    "K est une constante beaucoup plus grande que toutes les valeurs possibles de $u$. Les contraintes (IV) (V) (VI) sont là pour assurer que $u^*_1$ est le plus grand $u_i$ pour tout i, $u^*_2$ est le second plus grand $u_i$ pour tout i, etc. La contrainte (II) est une contrainte linéaire. \n",
    "    \n",
    "La formulation du problème est inspirée par l'article de [Yager 1995](https://ieeexplore.ieee.org/document/409869).\n",
    "</div>"
   ]
  },
  {
   "cell_type": "markdown",
   "metadata": {},
   "source": [
    "**Question 6.** Construire un programme qui, étant donné une instance de problème de répartition équitable de tâches indivisibles, calcule une \"bonne\" allocation des charges aux agents, par optimisation d'OWA. Ce programme fera appel à une bibliothèque de programmation linéaire. Annexer votre programme à votre compte-rendu.\n",
    "\n",
    "Exercer votre programme sur l'instance donnée plus bas. Considérer plusieurs jeux de poids pour votre OWA, et en particulier, les 3 jeux de poids cités plus haut.\n",
    "\n",
    "Pour chaque allocation donnée par votre programme, vérifie-t-elle la proportionnalité et l'absence d'envie ?\n",
    "\n",
    "Proposer une ou plusieurs allocations parmi celles trouvées ou d'autres, et argumenter votre choix.\n",
    "\n",
    "Conclure sur l'approche."
   ]
  },
  {
   "cell_type": "code",
   "execution_count": 116,
   "metadata": {},
   "outputs": [
    {
     "name": "stdout",
     "output_type": "stream",
     "text": [
      "Objective function:\n",
      "1.0\n",
      "Variable u:\n",
      "[8.0, 17.0, 30.0, 11.0, 53.0]\n",
      "Variable u_star:\n",
      "[1.0, 1.0, 1.0, 1.0, 1.0]\n",
      "Variables B: \n",
      "1.0 0.0 0.0 0.0 0.0 0.0 0.0 0.0 0.0 0.0 \n",
      "0.0 0.0 0.0 1.0 0.0 0.0 0.0 0.0 0.0 0.0 \n",
      "0.0 0.0 1.0 0.0 1.0 1.0 0.0 0.0 0.0 0.0 \n",
      "0.0 0.0 0.0 0.0 0.0 0.0 1.0 0.0 1.0 0.0 \n",
      "0.0 1.0 0.0 0.0 0.0 0.0 0.0 1.0 0.0 1.0 \n",
      "Variables Z: \n",
      "0.0 0.0 0.0 0.0 0.0 \n",
      "0.0 0.0 0.0 0.0 0.0 \n",
      "0.0 0.0 0.0 0.0 0.0 \n",
      "0.0 0.0 0.0 0.0 0.0 \n",
      "0.0 0.0 0.0 0.0 0.0 \n"
     ]
    },
    {
     "name": "stderr",
     "output_type": "stream",
     "text": [
      "<ipython-input-116-ba7b7d4ee2b6>:38: DeprecationWarning: Calling np.sum(generator) is deprecated, and in the future will give a different result. Use np.sum(np.fromiter(generator)) or the python sum builtin instead.\n",
      "  prob += (np.sum((c*B)[i][j] for j in range(nb_tasks)) - u[i] == 0)\n"
     ]
    }
   ],
   "source": [
    "# Formulation of the problem\n",
    "from pulp import *\n",
    "prob = LpProblem(\"OWA\",LpMinimize)\n",
    "\n",
    "nb_agents = 5\n",
    "nb_tasks = 10\n",
    "K = 100\n",
    "w = np.ones(nb_agents)/nb_agents # weights for sum \n",
    "\n",
    "\n",
    "G = -np.eye(nb_agents-1, nb_agents) + np.eye(nb_agents-1, nb_agents, k=1)\n",
    "\n",
    "u = [LpVariable(f'u{i}', 1, 200, cat = 'Integer') for i in range(nb_agents)]\n",
    "u_star = [LpVariable(f'u_star{i}', 1, 200, cat = 'Integer') for i in range(nb_agents)]\n",
    "Z = np.array([[LpVariable(f'Z_{i}{j}', 0, 1, cat = 'Binary') for j in range(nb_agents)] for i in range(nb_agents)])\n",
    "B = np.array([[LpVariable(f'B_{i}{j}', 0, 1, cat = 'Binary') for j in range(nb_tasks)] for i in range(nb_agents)])\n",
    "\n",
    "\n",
    "prob += lpDot(w, u_star)\n",
    "\n",
    "for i in range(len(G)):\n",
    "    prob += (lpDot(G[i], u_star) <= 0) # constraint (III)\n",
    "    \n",
    "for j in range(nb_agents):\n",
    "    prob += (lpSum(np.ones(nb_agents)*Z.T[j]) <= nb_agents - j - 1) # constraint (V)\n",
    "#     for i in range(nb_agents):\n",
    "#         prob += (u_star[j]-u[j]-K*Z[i][j] <= 0) # constraint (IV)\n",
    "\n",
    "for j in range(nb_agents):\n",
    "    for i in range(nb_agents):\n",
    "        prob += (np.full(nb_agents,u_star[j]) - u - (K*np.ones(nb_agents)*Z.T[j]))[i] <= 0 # constraint (IV)\n",
    "\n",
    "        \n",
    "for i in range(nb_tasks):\n",
    "    prob += lpSum(np.ones(nb_agents)*B.T[i])==1\n",
    "\n",
    "for i in range(nb_agents):\n",
    "    prob += (np.sum((c*B)[i][j] for j in range(nb_tasks)) - u[i] == 0)\n",
    "    \n",
    "prob.solve()\n",
    "print(\"Objective function:\")\n",
    "print(value(prob.objective))\n",
    "print(\"Variable u:\")\n",
    "print([value(var) for var in u])\n",
    "print(\"Variable u_star:\")\n",
    "print([value(var) for var in u_star])\n",
    "print(\"Variables B: \")\n",
    "for i in range(nb_agents):\n",
    "    for j in range(nb_tasks):\n",
    "        print(pulp.value(B[i][j]), end=' ')\n",
    "    print()\n",
    "print(\"Variables Z: \")\n",
    "for i in range(nb_agents):\n",
    "    for j in range(nb_agents):\n",
    "        print(pulp.value(Z[i][j]), end=' ')\n",
    "    print()\n"
   ]
  },
  {
   "cell_type": "code",
   "execution_count": 76,
   "metadata": {},
   "outputs": [
    {
     "data": {
      "text/plain": [
       "-1.0*u_star2 + 1.0*u_star3 + 0.0"
      ]
     },
     "execution_count": 76,
     "metadata": {},
     "output_type": "execute_result"
    }
   ],
   "source": [
    "t1 = [8,15,10,20,20]\n",
    "t2 = [14,18,9,20,20]\n",
    "t3 = [12,12,11,14,15]\n",
    "t4 = [13,17,13,10,18]\n",
    "t5 = [5,17,10,10,20]\n",
    "t6 = [9,12,9,2,18]\n",
    "t7 = [3,16,15,4,17]\n",
    "t8 = [8,12,11,12,17]\n",
    "t9 = [15,10,9,7,15]\n",
    "t10 = [2,18,13,16,16]\n",
    "\n",
    "c=np.array([[ 8, 14, 12, 13,  5,  9,  3,  8, 15,  2],\n",
    "   [15, 18, 12, 17, 17, 12, 16, 12, 10, 18],\n",
    "   [10,  9, 11, 13, 10,  9, 15, 11,  9, 13],\n",
    "   [20, 20, 14, 10, 10,  2,  4, 12,  7, 16],\n",
    "   [20, 20, 15, 18, 20, 18, 17, 17, 15, 16]])\n",
    "\n",
    "i=2\n",
    "lpDot(G[i], u_star)"
   ]
  },
  {
   "cell_type": "code",
   "execution_count": 102,
   "metadata": {},
   "outputs": [
    {
     "data": {
      "text/plain": [
       "array([100.0*Z_01 + 0.0, 100.0*Z_11 + 0.0, 100.0*Z_21 + 0.0,\n",
       "       100.0*Z_31 + 0.0, 100.0*Z_41 + 0.0], dtype=object)"
      ]
     },
     "execution_count": 102,
     "metadata": {},
     "output_type": "execute_result"
    }
   ],
   "source": [
    "i=0\n",
    "j=1\n",
    "K*np.ones(nb_agents)*Z.T[j]"
   ]
  },
  {
   "cell_type": "code",
   "execution_count": 92,
   "metadata": {},
   "outputs": [
    {
     "data": {
      "text/plain": [
       "0.2*u_star0 + 0.2*u_star1 + 0.2*u_star2 + 0.2*u_star3 + 0.2*u_star4 + 0.0"
      ]
     },
     "execution_count": 92,
     "metadata": {},
     "output_type": "execute_result"
    }
   ],
   "source": [
    "lpDot(w, u_star)"
   ]
  }
 ],
 "metadata": {
  "kernelspec": {
   "display_name": "Python 3",
   "language": "python",
   "name": "python3"
  },
  "language_info": {
   "codemirror_mode": {
    "name": "ipython",
    "version": 3
   },
   "file_extension": ".py",
   "mimetype": "text/x-python",
   "name": "python",
   "nbconvert_exporter": "python",
   "pygments_lexer": "ipython3",
   "version": "3.8.5"
  }
 },
 "nbformat": 4,
 "nbformat_minor": 4
}
