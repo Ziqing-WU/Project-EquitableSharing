{
 "cells": [
  {
   "cell_type": "markdown",
   "metadata": {},
   "source": [
    "<center>BE - Théorie de la décision - Partages et allocations équitables</center>\n",
    "<center>Thème: partage et charges indivisibles</center>\n",
    "\n",
    "<center>Shuang Hou & Ziqing Wu</center>\n",
    "    \n",
    "# 1. Adaptation du modèle\n",
    "Comme annoncé dans le sujet, on cherche à adopter un modèle simplifié présenté dans le cours avec la modification suivante: les utilités deviennent des désutilités, qui peuvent être interprétées comme des pénalités, du temps de travail, des coûts, etc. On conserve l'additivité des désutilités, hypothèse qui revient à considérer les charges comme compensatoires. On suppose que tout agent peut accomplir n'importe quelle charge. Toutes les charges doivent être allouées, chacune à un agent et un seul.\n",
    "\n",
    "On suppose les désutilités strictement positives (si une charge a une désutilité nulle pour un agent, on peut l'attribuer à cet agent sans dommages pour lui, et donc cette charge peut être ignorée)."
   ]
  },
  {
   "cell_type": "markdown",
   "metadata": {},
   "source": [
    "<div class=\"alert alert-block alert-warning\">\n",
    "<b>Notation:</b> Pour la cohérence, toutes les notations utilisées dans ce notebook sont identiques aux celles utilisées dans le polycopié de ce cours. Comme on s'intéresse qu'aux desutilités dans ce projet. On introduit des nouvelles notations comme $d$ pour désigner les désutilités, $dc$ pour désigner les désutilités collective.\n",
    "</div>\n"
   ]
  },
  {
   "cell_type": "markdown",
   "metadata": {},
   "source": [
    "## 1.1 Approche par les tests\n",
    "\n",
    "**Question 1.** Reprendre l'approche par les tests et adapter les définitions au cas des désutilités: Pareto-optimalite, proportionnalité, absence d'envie, le test maxmin et le test CEEI. L'approche par les tests nécessite-t-elle de normaliser les utilités? Expliquer."
   ]
  },
  {
   "cell_type": "markdown",
   "metadata": {},
   "source": [
    "<div class=\"alert alert-block alert-success\">\n",
    "<b>Answer:</b><br>\n",
    "   \n",
    "<b>1) Pareto-optimalité (efficacité):</b> Une allocution Pareto-optimale est une allocution qui ne gaspille pas la ressource. On dit que l'allocution $x$ domine au sens de Pareto (ou Pareto-domine) l'allocution $x'$ si et seulement si $u_i(x_i)\\geq u_i(x'_i)$ pour tout agent i, avec au moins une inégalité stricte. Une allocution Pareto-optimale est une allocution qui n'est dominée par aucune autre.\n",
    "\n",
    "Dans le cas des désutilités, on dit que l'allocution $x$ domine au sens de Pareto l'allocution $x'$ si et seulement si $d_i(x_i)\\leq d_i(x'_i)$ pour tout agent i, avec au moins une inégalité stricte. Comme dans ce BE, on interprète les désutilités comme des pénibilités, l'agent qui a moins de désutilité est considéré comme l'agent qui a plus d'intérêts. C'est donc logique de remplacer le signe supérieur ou égal par le signe inférieur ou égal dans le cas des désutilités.\n",
    "\n",
    "<br>\n",
    "<b>2) Proportionnalité:</b> Dans le cas des utilités, l'allocution $x$ est proportionnelle lorsque \n",
    "$$u_i(x_i)\\geq\\frac{1}{n}u_i(M) = \\frac{1}{n}\\sum_{j\\in M}W(i,j)$$ pour tout $i\\in N$. $\\frac{1}{n}\\sum_{j\\in M}W(i,j)$ est la juste part proportionnelle de l'agent i. La proportionnalité peut être interprétée comme suit: chacun doit avoir au moins $\\frac{1}{n}$ de l'utilité qu'il aurait si tous les objets lui étaient alloués.\n",
    "    \n",
    "Dans le cas des désutilités, on dit que chacun doit avoir au plus $\\frac{1}{n}$ de la désutilité qu'il aurait si toutes les tâches lui étaient alloués. Donc $$d_i(x_i)\\leq\\frac{1}{n}d_i(M)=\\frac{1}{n}\\sum_{j\\in M}W(i,j)$$\n",
    "    \n",
    "<br>\n",
    "<b>3) Absence d'envie:</b> Une allocution $x$ est sans envie lorsque $$u_i(x_i)\\geq u_i(x'_i)$$ pour tout $i,i'\\in N$, qui peut être interprété comme personne ne préfère strictement la part d'un autre. Il s'agit d'un concept de stabilité. \n",
    "    \n",
    "Dans le cas des désutilités, on dit qu'une allocution $x$ est sans envie lorsque $$d_i(x_i)\\leq d_i(x'_i)$$ qui peut être interprété comme personne ne se plaint de faire plus de choses qu'un autre.\n",
    "    \n",
    "<br> \n",
    "<b>4) Test maxmin:</b> Une allocution $x$ vérifie le test maxmin lorsque $$u_i(x_i)\\geq \\max_{y\\in \\mathcal{A}}\\min_{i'\\in N}u_i(y_i')$$ pour tout $i\\in N$ où $\\mathcal{A}$ est l'ensemble de toutes les allocutions possibles. Ce test généralise l'idée du jeu cut-and-choose. La juste part maxmin de l'argent i $\\max_{y\\in \\mathcal{A}}\\min_{i'\\in N}u_i(y_i')$, est l'utilité qu'il peut se garantir dans le jeu \"je partage et je choisis en dernier\". \n",
    "    \n",
    "Dans le cas des désutilités, on part du principe similaire \"je fais le plus de tâches le possible et je choisis en dernier\", donc la juste part maxmin de l'argent i est $\\min_{y\\in \\mathcal{A}}\\max_{i'\\in N}d_i(y'_i)$. Une allocution $x$ vérifie le test maxmin lorsque $$d_i(x_i)\\leq \\min_{y\\in\\mathcal{A}}\\max_{i'\\in N}d_i(y_i')$$\n",
    "    \n",
    "<br>\n",
    "<b>5) Test CEEI:</b> Soit $x$ une allocution, et $p\\in[0,1]^m$ un prix pour chaque objet. On dit que le couple $(x,p)$ forme un équilibre compétitif à revenus égaux lorsque $$x_i\\in \\arg\\min_{P\\subseteq M}\\{u_i(P)|\\sum_{j\\in P}p_j\\leq1\\}$$ pour tout $i\\in N$.\n",
    "    \n",
    "Dans le cas des désutilités, on peut aussi imposer une valeur qui évalue la pénibilité pour chaque tâche, ici on note cette valeur $p\\in [0,1]^m$, on dit que l'allocution $x$ vérifie le test CEEI lorsque $$x_i\\in \\arg\\min\\{d_i(P)|\\sum_{j\\in P}p_j\\leq 1\\}$$ pour tout $i\\in N$. \n",
    "    \n",
    "<br><br>\n",
    "    \n",
    "La normalisation n'est pas nécessaire dans ces tests, car on ne compare jamais les utilités individuelles d'agents différents. Chacun peut utiliser sa propre échelle.\n",
    "\n",
    "</div>"
   ]
  },
  {
   "cell_type": "markdown",
   "metadata": {},
   "source": [
    "## 1.2 Approche par les ordres de Bien-Être Social (OBES) et les Fonction d'Utilité Collective (FUC)\n",
    "\n",
    "**Question 2.** Reprendre l'approche par les OBES et les FUC et de même adapter les définition ainsi que les sens d'optimisation au cas des désutilité :\n",
    "\n",
    "- l'utilitarisme classique\n",
    "- l'égalitarisme\n",
    "- Nash\n",
    "- la réduction des inégalités\n",
    "- la famille des *Ordered Weighted Averaging Operators* (OWA). Quelles conditions sur les poids d'un OWA assurent la propriété de réduction des inégalités?\n",
    "\n",
    "L'approche par les OBES/FUC nécessite-t-elle de normaliser les utilités? Expliquer."
   ]
  },
  {
   "cell_type": "markdown",
   "metadata": {},
   "source": [
    "<div class=\"alert alert-block alert-success\">\n",
    "<b>Answer:</b><br> \n",
    "    \n",
    "<b>1)</b> La fonction d'utilité collective de l'utilitarisme classique au cas des utilités est définie comme suivante avec le sens d'optimisation est de le maximiser.\n",
    "    \n",
    "$$ uc(u) = \\sum_{i\\in N} u_i$$\n",
    "    \n",
    "Dans le cas des désutilités, la sommation dans la définition ne change pas et le sens d'optimisation doit être changée de maximisation à minimisation, car pour la pénalité, moins vous en avez, mieux c'est. Donc,\n",
    "$$ dc(u) = \\sum_{i\\in N} d_i$$\n",
    "\n",
    "<br>\n",
    "    \n",
    "<b>2)</b> La fonction d'utilité collective de l'égalitarisme pur et dur au cas des utilités est définie comme suivante avec le sens d'optimisation est de le maximiser. Il traduit l'équité pour qui une distribution des richesses est équitable lorsque le plus pauvre des agents est le plus riche possible.\n",
    "    \n",
    "$$ uc(u) = \\min_{i\\in N} u_i$$    \n",
    "  \n",
    "Dans le cas des déutilités, le min dans la définition doit devenir max, et le sens d'optimisation doit être changée de maximisation à minimisation. Parce que pour les pénalités, l'objectif d'optimisation est de faire en sorte que la personne qui reçoit le plus de punition reçoive le moins de punition possible. Cela donne la définition au cas des déutilités:\n",
    "    \n",
    "$$ dc(u) = \\max_{i\\in N} d_i$$   \n",
    " \n",
    "<br>    \n",
    "    \n",
    "<b>3)</b> La fonction d'utilité collective produit de Nash au cas des utilités est définie comme suivante avec le sens d'optimisation est de le maximiser. Il est restreint aux utilités individuelles strictement positives.\n",
    "    \n",
    "$$ uc(u) = \\prod_{i\\in N} u_i$$   \n",
    "    \n",
    "Dans le cas des déutilités, le produit dans la définition ne change pas, et le sens d'optimisation ne change pas non plus, il s'agit toujours de maximiser la fonction d'utilité collective. Car que ce soit pour l'utilité ou la désutilité, l'objectif d'optimisation est de rechercher l'équité, c'est en maximisant un produit que l'on équilibre ses arguments.\n",
    "$$ dc(u) = \\prod_{i\\in N} d_i$$  \n",
    "\n",
    "<br>    \n",
    "    \n",
    "<b>4)</b> La définition de la réduction des inéqalités est décrit comme : Soient deux profils u et v ne différant que pour deux agents i et j distincts ($u_k = v_k$ pour tout k différent de i et j) et tels que $u_i + u_j = v_i + v_j$. On dit que v est obtenu à partir de u par un transfert réduisant les inégalités (ou transfert de Pigou-Dalton) lorsque $|v_i − v_j| < |u_i − u_j|$.     \n",
    "\n",
    "Autrement dit, la somme des utilités est conservée mais les inégalités sont réduites par le transfert : il y a eu un transfert d'utilité d'un agent \"riche\" vers un agent \"pauvre\".    \n",
    "    \n",
    "La même idée s'applique dans le cas des déutilités: la somme des désutilités est conservée, mais on espère que les inégalités seront réduites par le transfert, et la déutilité sera transférée de plus cher à bon marché. C'est-à-dire que le but de l'optimisation est de rechercher le plus égal possible entre tous les agents. Donc, dans ce cas des déutilités, la définition et le sens d'optimisation restent inchangés.    \n",
    "\n",
    "<br>    \n",
    "    \n",
    "<b>5)</b> La moyenne pondérée ordonnée *Ordered Weighted Averaging Operators* (OWA) est une déformation de la moyenne pondérée, dans laquelle les poids portent sur les rangs plutôt que sur les composantes elles-mêmes.\n",
    "    \n",
    "Un n-OWA est une famille de fonctions de $R^n$ dans $R$, paramétrée par un vecteur $w = <w_1, . . . , w_n \\in[0, 1]^n$, avec $\\sum_i w_i = 1$. Une fois $w$ fixé, l'OWA est défini par:\n",
    "    \n",
    "    \n",
    "$$ O_w(u) = \\sum_{i=1}^n w_i u_i^*$$\n",
    "    \n",
    "où $<u_1^*, u_2^*, ..., u_n^*>$ dénote le vecteur u une fois ses composantes ordonnées de façon non décroissante.\n",
    "    \n",
    "Dans le cas des désutilités, la définition est toujours la même que ci-dessus. Mais pour assurer la propriété de réduction des inégalités, les poids d'un OWA doivent avoir une condition: le vecteur du poids $w = <w_1, w_2, ..., w_n>$ est une séquence ordonnée de façon non croissante. Parce que le vecteur $d = <d_1^*, d_2^*, ..., d_n^*>$ est une séquence ordonnées de façon non décroissante, afin de réduire les inégalités, leurs séquences de poids correspondantes doivent être non croissantes afin de garantir que l'on puisse maximiser la réduction des inégalités entre chaque terme après multiplication.\n",
    "    \n",
    "<br><br>\n",
    "    \n",
    "Il est nécessaire de normaliser les utilités/désutilités pour l'approche par les OBES/FUC. Parce qu'ici il est différent de l'approche par les tests précédentes, ici l'approche par les OBES/FUC fait une comparaison entre chaque agent, donc leur utilités/désutilités doit être normalisées pour s'assurer qu'elles sont sur la même échelle, de sorte que cela fait du sens pour la comparaison.\n",
    "\n",
    "Mais il y a un cas particulier: la fonction de Nash ne dépend pas des échelles d'utilités individuelles, alors que pour la somme et le leximin, il est souvent nécessaire de \"normaliser\" les utilités individuelles.  \n",
    "    \n",
    "</div>"
   ]
  },
  {
   "cell_type": "markdown",
   "metadata": {},
   "source": [
    "## 1.3 Un exemple\n",
    "\n",
    "Soit l'instance suivante (3 charges a, b, c, à partager entre 2 agents) :\n",
    "\n",
    "\\begin{matrix}  & a & b & c \\\\ u_1() & 6 & 3 & 1 \\\\ u_2() & 1 & 2 & 1 \\end{matrix}\n",
    "\n",
    "**Question 3.** Enumérer toutes les allocations possibles, les placer graphiquement dans l'espace des désutilités. Tracer quelques courbes d'iso-somme, iso-égalitarisme, iso-Nash et iso-OWA (avec un vecteur de poids bien choisi). Pour chaque allocation, la caractériser par les 5 tests cités plus haut (pour CEEI, préciser les prix). Lesquelles optimisent les 3 OBES utilitarisme classique, l'égalitarisme et Nash ?"
   ]
  },
  {
   "cell_type": "markdown",
   "metadata": {},
   "source": [
    "<div class=\"alert alert-block alert-success\">\n",
    "<b>Answer:</b><br>\n",
    "    \n",
    "Toutes les allocations possibles sont énumérées comme suite. Pour la clarté et la simplicité, on désigne chaque allocation par $x_i$, et elles sont présentées sous forme de matrice.\n",
    "    \n",
    "\\begin{array}{c|ccc}  & a & b & c \\\\ \\hline x_1 & u_1 & u_2 & u_2 \\\\ x_2 & u_2 & u_1 & u_2 \\\\\n",
    "                x_3 & u_2 & u_2 & u_1 \\\\ x_4 & u_1 & u_1 & u_2 \\\\ x_5 & u_1 & u_2 & u_1 \\\\ \n",
    "                x_6 & u_2 & u_1 & u_1 \\\\ x_7 & u_1 & u_1 & u_1 \\\\ x_8 & u_2 & u_2 & u_2 \\end{array}    \n",
    "    \n",
    "### A compléter pour les graphes et courbes...\n",
    "    \n",
    "1) On caractérise les allocations par le test de Pareto-optimalité sous forme de matrice des désutilités:\n",
    "    \n",
    "\\begin{array}{c|ccc}  & x_1 & x_2 & x_3 & x_4 & x_5 & x_6 & x_7 & x_8 \\\\ \n",
    "                \\hline \n",
    "                u_1 & 6 & 3 & 1 & 9 & 7 & 4 & 10 & 0 \\\\ \n",
    "                u_2 & 3 & 2 & 3 & 1 & 2 & 1 & 0 & 4 \\end{array}     \n",
    " \n",
    "On peut constater de la matrice des désutilités ci-dessus qu'il n'y a pas d'allocation satisfaisant la condition de Pareto-optimalité.\n",
    "\n",
    "<br>    \n",
    "    \n",
    "2) On caractérise les allocations par le test de proportionnalité...\n",
    "    \n",
    "...\n",
    "    \n",
    "</div>"
   ]
  },
  {
   "cell_type": "markdown",
   "metadata": {},
   "source": [
    "# 2. Mise en œuvre\n",
    "\n",
    "Vous allez construire un procédé de résolution de problème d'allocation équitable de tâches indivisibles, basé sur l'optimisation de FUC bien choisies. Vous exprimerez ces FUCs par des OWA.\n",
    "\n",
    "**Question 4.** Quels vecteurs de poids correspondent aux OBES suivants :\n",
    "— l'ordre de l'utilitarisme classique\n",
    "— l'ordre de l'égalitarisme\n",
    "— l'ordre correspondant à l'OWA de Gini (notes de cours paragraphe 4.2 et note en bas de page 21). Précisez l'ordre des désutilités et des poids."
   ]
  },
  {
   "cell_type": "markdown",
   "metadata": {},
   "source": [
    "**Question 5.** Exprimer le problème d'optimisation d'un OWA sous forme d'un programme linéaire."
   ]
  },
  {
   "cell_type": "markdown",
   "metadata": {},
   "source": [
    "**Question 6.** Construire un programme qui, étant donné une instance de problème de répartition équitable de tâches indivisibles, calcule une \"bonne\" allocation des charges aux agents, par optimisation d'OWA. Ce programme fera appel à une bibliothèque de programmation linéaire. Annexer votre programme à votre compte-rendu.\n",
    "\n",
    "Exercer votre programme sur l'instance donnée plus bas. Considérer plusieurs jeux de poids pour votre OWA, et en particulier, les 3 jeux de poids cités plus haut.\n",
    "\n",
    "Pour chaque allocation donnée par votre programme, vérifie-t-elle la proportionnalité et l'absence d'envie ?\n",
    "\n",
    "Proposer une ou plusieurs allocations parmi celles trouvées ou d'autres, et argumenter votre choix.\n",
    "\n",
    "Conclure sur l'approche."
   ]
  }
 ],
 "metadata": {
  "kernelspec": {
   "display_name": "Python 3",
   "language": "python",
   "name": "python3"
  },
  "language_info": {
   "codemirror_mode": {
    "name": "ipython",
    "version": 3
   },
   "file_extension": ".py",
   "mimetype": "text/x-python",
   "name": "python",
   "nbconvert_exporter": "python",
   "pygments_lexer": "ipython3",
   "version": "3.8.5"
  }
 },
 "nbformat": 4,
 "nbformat_minor": 4
}
