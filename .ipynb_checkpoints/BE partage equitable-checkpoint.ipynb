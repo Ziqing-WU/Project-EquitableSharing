{
 "cells": [
  {
   "cell_type": "markdown",
   "metadata": {},
   "source": [
    "<center>BE - Théorie de la décision - Partages et allocations équitables</center>\n",
    "<center>Thème: partage et charges indivisibles</center>\n",
    "\n",
    "<center>Shuang Hou & Ziqing Wu</center>\n",
    "    \n",
    "# 1. Adaptation du modèle\n",
    "Comme annoncé dans le sujet, on cherche à adopter un modèle simplifié présenté dans le cours avec la modification suivante: les utilités deviennent des désutilités, qui peuvent être interprétées comme des pénalités, du temps de travail, des coûts, etc. On conserve l'additivité des désutilités, hypothèse qui revient à considérer les charges comme compensatoires. On suppose que tout agent peut accomplir n'importe quelle charge. Toutes les charges doivent être allouées, chacune à un agent et un seul.\n",
    "\n",
    "On suppose les désutilités strictement positives (si une charge a une désutilité nulle pour un agent, on peut l'attribuer à cet agent sans dommages pour lui, et donc cette charge peut être ignorée)."
   ]
  },
  {
   "cell_type": "markdown",
   "metadata": {},
   "source": [
    "## 1.1 Approche par les tests\n",
    "\n",
    "**Question 1.** Reprendre l'approche par les tests et adapter les définitions au cas des désutilités: Pareto-optimalite, proportionnalité, absence d'envie, le test maxmin et le test CEEI. L'approche par les tests nécessite-t-elle de normaliser les utilités? Expliquer."
   ]
  },
  {
   "cell_type": "markdown",
   "metadata": {},
   "source": [
    "<div class=\"alert alert-block alert-success\">\n",
    "<b>Answer:</b> \n",
    "    \n",
    "    \n",
    "</div>"
   ]
  },
  {
   "cell_type": "markdown",
   "metadata": {},
   "source": [
    "## 1.2 Approche par les ordres de Bien-Être Social (OBES) et les Fonction d'Utilité Collective (FUC)\n",
    "\n",
    "**Question 2.** Reprendre l'approche par les OBES et les FUC et de même adapter les définition ainsi que les sens d'optimisation au cas des désutilité :\n",
    "\n",
    "- l'utilitarisme classique\n",
    "- l'égalitarisme\n",
    "- Nash\n",
    "- la réduction des inégalités\n",
    "- la famille des *Ordered Weighted Averaging Operators* (OWA). Quelles conditions sur les poids d'un OWA assurent la propriété de réduction des inégalités?\n",
    "\n",
    "L'approche par les OBES/FUC nécessite-t-elle de normaliser les utilités? Expliquer."
   ]
  },
  {
   "cell_type": "markdown",
   "metadata": {},
   "source": [
    "<div class=\"alert alert-block alert-success\">\n",
    "<b>Answer:</b> \n",
    "    \n",
    "<b>1)</b> La fonction d'utilité collective de l'utilitarisme classique au cas des utilités est définie comme suivante avec le sens d'optimisation est de le maximiser.\n",
    "    \n",
    "$$ uc(u) = \\sum_{i\\in N} u_i$$\n",
    "    \n",
    "Dans le cas des déutilités, la sommation dans la définition ne change pas et le sens d'optimisation doit être changée de maximisation à minimisation, car pour la pénalité, moins vous en avez, mieux c'est.\n",
    "\n",
    "<br>\n",
    "    \n",
    "<b>2)</b> La fonction d'utilité collective de l'égalitarisme pur et dur au cas des utilités est définie comme suivante avec le sens d'optimisation est de le maximiser. Il traduit l'quité pour qui une distribution des richesses est équitable lorsque le plus pauvre des agents est le plus riche possible.\n",
    "    \n",
    "$$ uc(u) = \\min_{i\\in N} u_i$$    \n",
    "  \n",
    "Dans le cas des déutilités, le min dans la définition doit devenir max, et le sens d'optimisation doit être changée de maximisation à minimisation. Parce que pour les pénalités, l'objectif d'optimisation est de faire en sorte que la personne qui reçoit le plus de punition reçoive le moins de punition possible. Cela donne la définition au cas des déutilités:\n",
    "    \n",
    "$$ uc(u) = \\max_{i\\in N} u_i$$   \n",
    " \n",
    "<br>    \n",
    "    \n",
    "<b>3)</b> La fonction d'utilité collective produit de Nash au cas des utilités est définie comme suivante avec le sens d'optimisation est de le maximiser. Il est restreint aux utilités individuelles strictement positives.\n",
    "    \n",
    "$$ uc(u) = \\prod_{i\\in N} u_i$$   \n",
    "    \n",
    "Dans le cas des déutilités, le produit dans la définition ne change pas, et le sens d'optimisation ne change pas non plus, il s'agit toujours de maximiser la fonction d'utilité collective. Car que ce soit pour l'utilité ou la désutilité, l'objectif d'optimisation est de rechercher l'équité, c'est en maximisant un produit que l'on équilibre ses arguments.\n",
    "\n",
    "<br>    \n",
    "    \n",
    "<b>4)</b> La définition de la réduction des inéqalités est décrit comme : Soient deux profils u et v ne différant que pour deux agents i et j distincts ($u_k = v_k$ pour tout k différent de i et j) et tels que $u_i + u_j = v_i + v_j$. On dit que v est obtenu à partir de u par un transfert réduisant les inégalités (ou transfert de Pigou-Dalton) lorsque $|v_i − v_j| < |u_i − u_j|$.     \n",
    "\n",
    "Autrement dit, la somme des utilités est conservée mais les inégalités sont réduites par le transfert : il y a eu un transfert d'utilité d'un agent \"riche\" vers un agent \"pauvre\".    \n",
    "    \n",
    "La même idée s'applique dans le cas des déutilités: la somme des désutilités est conservée, mais on espère que les inégalités seront réduites par le transfert, et la déutilité sera transférée de plus cher à bon marché. C'est-à-dire que le but de l'optimisation est de rechercher le plus égal possible entre tous les agents. Donc, dans ce cas des déutilités, la définition et le sens d'optimisation restent inchangés.    \n",
    "\n",
    "<br>    \n",
    "    \n",
    "<b>5)</b> La moyenne pondérée ordonnée *Ordered Weighted Averaging Operators* (OWA) est une déformation de la moyenne pondérée, dans laquelle les poids portent sur les rangs plutôt que sur les composantes elles-mêmes.\n",
    "    \n",
    "Un n-OWA est une famille de fonctions de $R^n$ dans $R$, paramétrée par un vecteur $w = <w_1, . . . , w_n \\in[0, 1]^n$, avec $\\sum_i w_i = 1$. Une fois $w$ fixé, l'OWA est défini par:\n",
    "    \n",
    "    \n",
    "$$ O_w(u) = \\sum_{i=1}^n w_i u_i^*$$\n",
    "    \n",
    "où $<u_1^*, u_2^*, ..., u_n^*>$ dénote le vecteur u une fois ses composantes ordonnées de façon non décroissante.\n",
    "    \n",
    "Dans le cas des déutilités, la définition est toujours la même que ci-dessus. Mais pour assurer la propriété de réduction des inégalités, les poids d'un OWA doivent avoir une condition: le vecteur du poids $w = <w_1, w_2, ..., w_n>$ est une séquence ordonnée de façon non croissante. Parce que le vecteur $u = <u_1^*, u_2^*, ..., u_n^*>$ est une séquence ordonnées de façon non décroissante, afin de réduire les inégalités, leurs séquences de poids correspondantes doivent être non croissantes afin de garantir que l'on puisse maximiser la réduction des inégalités entre chaque terme après multiplication.\n",
    "    \n",
    "<br><br>\n",
    "    \n",
    "Il est nécessaire de normaliser les utilités/désutilités pour l'approche par les OBES/FUC. Parce qu'ici il est différent de l'approche par les tests précédentes, ici l'approche par les OBES/FUC fait une comparaison entre chaque agent, donc leur utilités/désutilités doit être normalisées pour s'assurer qu'elles sont sur la même échelle, de sorte que cela fait du sens pour la comparaison.\n",
    "\n",
    "Mais il y a un cas particulier: la fonction de Nash ne dépend pas des échelles d'utilités individuelles, alors que pour la somme et le leximin, il est souvent nécessaire de \"normaliser\" les utilités individuelles.  \n",
    "    \n",
    "</div>"
   ]
  }
 ],
 "metadata": {
  "kernelspec": {
   "display_name": "Python 3",
   "language": "python",
   "name": "python3"
  },
  "language_info": {
   "codemirror_mode": {
    "name": "ipython",
    "version": 3
   },
   "file_extension": ".py",
   "mimetype": "text/x-python",
   "name": "python",
   "nbconvert_exporter": "python",
   "pygments_lexer": "ipython3",
   "version": "3.7.6"
  }
 },
 "nbformat": 4,
 "nbformat_minor": 4
}
